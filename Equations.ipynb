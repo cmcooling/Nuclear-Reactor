{
 "cells": [
  {
   "cell_type": "markdown",
   "metadata": {},
   "source": [
    "# Equations\n",
    "\n",
    "This document describes the equations solved in this sample project. It does not aim to describe the physics represented in detail.\n",
    "\n",
    "## The Physical System\n",
    "\n",
    "The system considered is a highly simplified nuclear reactor. The system represents a single coolant channel along which coolant flows which is adjacent to a single fuel rod. All variables are either point variables (i.e. they don't vary with position) or are functions of a single dimension $z$, which is the distance along the channel. \n",
    "\n",
    "Coolant flows along the coolant channel at a constant rate and is assumed to enter the coolant channel at a temperature which does not vary with time. The temperature of the coolant is tracked as a function of the distance up the channel, as is the temperature of the fuel rod. At each height, the fuel rod is in thermal contact with the coolant and heat is exchanged between the fuel rod and the coolant.\n",
    "\n",
    "The neutronics of the system are simulated using a point kinetics model, meaning the number of neutrons and delayed neutron precursors in the entire system are solved for but have no spatial variation. The neutron population causes fissions in the fuel rod which heats it. The distribution of this heating effect is determined by a constant power distribution function. The reactivity of the system is determined by a user-prescribed function of time and the spatially-averaged temperatures of the fuel rod and the coolant."
   ]
  },
  {
   "cell_type": "markdown",
   "metadata": {},
   "source": [
    "## Neutronics\n",
    "\n",
    "The neutron population $n(t)$ is governed by the following equation:\n",
    "\n",
    "\\begin{equation}\n",
    "\\frac{\\textrm{d}n(t)}{\\textrm{d}t} = \\frac{\\beta R(t)n(t)}{\\Lambda} + \\sum\\limits_{i} \\lambda_{i} \\beta_{i},\n",
    "\\end{equation}\n",
    "\n",
    "where $\\beta$ is the total delayed neutron precursor fraction, $R(t)$ is the current reactivity, $\\Lambda$ is the neutron generation time, $\\lambda_{i}$ is the decay rate of delayed neutron precursor group $i$ and $\\beta_{i}$ is the delayed neutron precursor fraction of delayed precursor group $i$.\n",
    "\n",
    "The reactivity of the system is tracked in units of dollars and is calculated as follows:\n",
    "\n",
    "\\begin{equation}\n",
    "R(t) = R_{d}(t) + \\alpha_{F}(\\bar{T}_{F}(t) - \\bar{T}_{F0})+ \\alpha_{C}(\\bar{T}_{C}(t) - \\bar{T}_{C0}) \n",
    "\\end{equation}\n",
    "\n",
    "where $R_{ex}(t)$ is the user-defined driving reactivity, $\\alpha_{T}$ is the temperature feedback coefficient for the fuel, $\\bar{T}_{F}(t)$ is the spatially-averaged temperature of the fuel, $\\bar{T}_{F0}$ is a reference temperature for the fuel. $\\alpha_{C}$ is the temperature feedback coefficient for the coolant, $\\bar{T}_{C}(t)$ is the spatially-averaged temperature of the coolant, $\\bar{T}_{C0}$ is a reference temperature for the coolant.\n",
    "\n",
    "The total delayed neutron precursor fraction $\\beta$ is given by:\n",
    "\n",
    "\\begin{equation}\n",
    "\\beta = \\sum\\limits_{i} \\beta_{i}\n",
    "\\end{equation}\n",
    "\n",
    "The power of the system is given by the equation:\n",
    "\n",
    "\\begin{equation}\n",
    "P(t) = \\frac{n(t) E_{F}}{\\Lambda},\n",
    "\\end{equation}\n",
    "\n",
    "where $E_{F}$ is the energy released by each fission."
   ]
  },
  {
   "cell_type": "markdown",
   "metadata": {},
   "source": [
    "## Temperatures\n",
    "\n",
    "The temperature of the fuel $T_{F}(t,z)$ is governed by the equation:\n",
    "\n",
    "\\begin{equation}\n",
    "\\frac{\\partial T_{F}(t,z)}{\\partial t} = \\frac{P(t) \\psi(z) H}{C_{F}} - \\gamma(T_{F}(t,z) - T_{C}(t,z)) - \\frac{kH}{C_{F}} \\frac{\\partial^{2} T_{F}(t,z)}{\\partial z^{2}}\n",
    "\\end{equation}\n",
    "\n",
    "where $\\psi(z)$ is the power distribution function, $H$ is the total height of the system, $C_{F}$ is the total heat capacity of the fuel rod, $\\gamma$ is the constant of proportionality for the heat transfer and $T_{C}(t,z)$ is the coolant temperature. $\\psi(z)$ is normalised such that:\n",
    "\n",
    "\\begin{equation}\n",
    "\\int_{0}^{H} \\psi(z) \\textrm{d}z = 1.\n",
    "\\end{equation}\n",
    "\n",
    "The top and bottom boundary conditions of the fuel rod see no heat exchanged with the exterior of the simulated domain.\n",
    "\n",
    "The temperature of the coolant is described by the following equation:\n",
    "\n",
    "\\begin{equation}\n",
    "\\frac{\\partial T_{C}(t,z)}{\\partial t} = \\gamma(T_{F}(t,z) - T_{C}(t,z)) - v_{C}\\frac{\\partial T_{C}(t,z)}{\\partial z}\n",
    "\\end{equation}\n",
    "\n",
    "where $v_{C}$ is the velocity of the coolant.\n",
    "\n",
    "At the bottom of the coolant channel, the coolant temperature is equal to the coolant inlet temperature $T_{C, in}$."
   ]
  },
  {
   "cell_type": "markdown",
   "metadata": {},
   "source": [
    "## Initial Conditions\n",
    "\n",
    "At $t=0$, the number of neutrons and delayed neutron precursors is zero. The temperature of the coolant and fuel is equal to the coolant inlet temperature $T_{C, in}$."
   ]
  },
  {
   "cell_type": "markdown",
   "metadata": {},
   "source": [
    "## Default Values\n",
    "\n",
    "Many values may be optionally set in the input file. If they are not set, the following default values will be used:\n",
    "\n"
   ]
  }
 ],
 "metadata": {
  "kernelspec": {
   "display_name": "Python 3",
   "language": "python",
   "name": "python3"
  },
  "language_info": {
   "codemirror_mode": {
    "name": "ipython",
    "version": 3
   },
   "file_extension": ".py",
   "mimetype": "text/x-python",
   "name": "python",
   "nbconvert_exporter": "python",
   "pygments_lexer": "ipython3",
   "version": "3.8.5"
  }
 },
 "nbformat": 4,
 "nbformat_minor": 4
}
